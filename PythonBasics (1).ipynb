{
 "cells": [
  {
   "cell_type": "markdown",
   "id": "b6030c62-47e3-49d9-9502-60009c500b7d",
   "metadata": {},
   "source": [
    ">> PYTHON BASIC QUESTIONS "
   ]
  },
  {
   "cell_type": "markdown",
   "id": "c716c5d6-b187-4ef1-97aa-d4ffbdf4239c",
   "metadata": {},
   "source": [
    "1. What is Python, and why is it popular?\n",
    "\n",
    "-> \"Python\" is a high-level, interpreted programing language. It is popular because it is easy to learn and understand as its syntax and programing is similar to a English language. It's popularity also comes from it's enormous amount of libraries and a vast active community which contribute to it's libraries. And due to these libraries , Python becomes veratile to use in Data Science, Automation, Machine Learning and Web Development. "
   ]
  },
  {
   "cell_type": "markdown",
   "id": "f2d3aa68-c5fe-401f-9afa-622eb9035d21",
   "metadata": {},
   "source": [
    "2. What is an interpreter in Python?\n",
    "\n",
    "-> An Interpreter is a program that directly execute python code i.e. it reads code line by line, translating a high-level language like python to a low-level (bytecode) so that computer/ machine can understand and execute it."
   ]
  },
  {
   "cell_type": "markdown",
   "id": "f029caf0-9a57-4c94-ada6-98d656cdd40e",
   "metadata": {},
   "source": [
    "3. What are pre-defined keywords in Python?\n",
    "\n",
    "-> In Python, pre-defined keywords are some reserved words which have some specific meaning in language syntax. These keywords are fundamental blocks/unit to the logic of program. Some examples of the keywords are: print, if, elif, else, for, while, break, continue, is, in...(and more)."
   ]
  },
  {
   "cell_type": "markdown",
   "id": "0e41e79a-e5f4-408c-9285-06dc5af4c122",
   "metadata": {},
   "source": [
    "4. Can keywords be used as variable names?\n",
    "\n",
    "-> No, keywords can't be used as a variable name. If we try to do so, the keyword will loose its own pre-defined meaning and will not preform as expected in the block of code that we wrote. As our instructor, Mr. Ajay Kumar Gupta, shown in one of the video that when he assign the print keyword to a variable then print did'nt perforn its own function i.e. to print."
   ]
  },
  {
   "cell_type": "markdown",
   "id": "b6f5865a-dab3-4d77-8648-ef26d445ca9c",
   "metadata": {},
   "source": [
    "5. What is mutability in Python?\n",
    "\n",
    "-> Mutability is ability to modify value or state of the object. In Python, there are some objects whose content can be modified after their assignment (or creation). These objects are called mutable objects such as lists."
   ]
  },
  {
   "cell_type": "markdown",
   "id": "c26a93a9-08bd-4aed-a862-63c1e485d446",
   "metadata": {},
   "source": [
    "6. Why are lists mutable, but tuples are immutable?\n",
    "\n",
    "-> As lists support item assignment while tupple dont't, thus making lists mutable but tuples immutable."
   ]
  },
  {
   "cell_type": "markdown",
   "id": "baa50427-6403-4558-aca8-29e111d90af1",
   "metadata": {},
   "source": [
    "7. What is the difference between “==” and “is” operators in Python?\n",
    "\n",
    "-> \"==\" operator is an equality operator. It compares value of two objects, check if two variables have same value.\n",
    "   \"is\" operator is an identity operator. It compares identity of two objects, check if variables refer to the same object in memory. "
   ]
  },
  {
   "cell_type": "markdown",
   "id": "9d5ef31d-52af-492d-a159-47328af8c3ba",
   "metadata": {},
   "source": [
    "8. What are logical operators in Python?\n",
    "\n",
    "-> In Python, logical operators (and, or, not) are special keywords in our code, connecting and evaluating multiple conditions within a single expression. These logical operators are fundamental for controlling program flow in Python."
   ]
  },
  {
   "cell_type": "markdown",
   "id": "7ffc7e36-c5bd-4f4a-af7a-771591b5e03e",
   "metadata": {},
   "source": [
    "9. What is type casting in Python?\n",
    "\n",
    "-> Type  casting is nothing but type conversion i.e. the process of converting a value or variable from one data type to another."
   ]
  },
  {
   "cell_type": "markdown",
   "id": "5b434a96-68a4-49c0-9e6d-42cebe4dd85c",
   "metadata": {},
   "source": [
    "10. What is the difference between implicit and explicit type casting?\n",
    "\n",
    "-> Implicit type casting => This happens automatically without explicit intervention from our side. Example: Addition of a float and an integer would result in float.\n",
    "   Explicit type casting => This requires us to explicitly convert a value from one data type to another using built-in functions such as int(), str(), float(), list()..."
   ]
  },
  {
   "cell_type": "markdown",
   "id": "37100997-70b4-4150-94fc-99ddf775e5dd",
   "metadata": {},
   "source": [
    "11. What is the purpose of conditional statements in Python?\n",
    "\n",
    "-> Conditional statements help us to bring decision making in our code. They provide multiple scenarios handling within our code."
   ]
  },
  {
   "cell_type": "markdown",
   "id": "f5d4147d-8d67-4223-a284-5fec53f9ecd6",
   "metadata": {},
   "source": [
    "12. How does the elif statement work?\n",
    "\n",
    "-> \"elif\" is short for \"else-if\" in Python. It allows a multiple condition evaluation in sequential manner when preceeding \"if\" or \"elif\" conditions were \"False\". \n",
    "Initially \"if\" statement is checked,if this condition is \"True\" it will be executed otherwise if this \"if\" condition is \"False\" then succeeding \"elif\" statement is checked, if that \"elif\" condition is \"True\" it will be executed otherwise if this \"elif\" condition is \"False\"\n",
    "then succeeding \"elif\" statement is checked, till the else statement.\n",
    "\n",
    "Example:\n",
    "\n",
    "score = 93\n",
    "\n",
    "if score >= 90:\n",
    "    print(\"Grade: A\")\n",
    "elif score >= 80:\n",
    "    print(\"Grade: B\")\n",
    "elif score >= 70:\n",
    "    print(\"Grade: C\")\n",
    "else:\n",
    "    print(\"Grade: D\")\n",
    "\n",
    "=>> This code will give \"Grade: A\"\n",
    "\n",
    "\n",
    "score = 79\n",
    "\n",
    "if score >= 90:\n",
    "    print(\"Grade: A\")\n",
    "elif score >= 80:\n",
    "    print(\"Grade: B\")\n",
    "elif score >= 70:\n",
    "    print(\"Grade: C\")\n",
    "else:\n",
    "    print(\"Grade: D\")\n",
    "\n",
    "=>> This code will give \"Grade: C\""
   ]
  },
  {
   "cell_type": "markdown",
   "id": "e362df11-bfdb-4db9-a7c8-5ff6df5930d8",
   "metadata": {},
   "source": [
    "13. What is the difference between for and while loops?\n",
    "\n",
    "-> While Loop: This is ideal when you want the loop to continue executing as long as a certain condition is true. The exact number of iterations isn't known beforehand. It checks the condition before each iteration, making it suitable for scenarios where you're waiting for a particular state or condition to be fulfilled.\n",
    "   \n",
    "For Loop: This loop is used when you know ahead of time how many times you want to run the loop. It is great for iterating over a specific range, a fixed number of times, or over a collection of elements (like items in a list)."
   ]
  },
  {
   "cell_type": "code",
   "execution_count": 2,
   "id": "25dd5a8b-8db4-4810-8252-625c5d12aaad",
   "metadata": {},
   "outputs": [
    {
     "name": "stdin",
     "output_type": "stream",
     "text": [
      "Countdown starts from:  5\n"
     ]
    },
    {
     "name": "stdout",
     "output_type": "stream",
     "text": [
      "5\n",
      "4\n",
      "3\n",
      "2\n",
      "1\n",
      "We have a TAKEOFF\n"
     ]
    }
   ],
   "source": [
    "\"\"\"14. Describe a scenario where a while loop is more suitable than a for loop.\n",
    "\n",
    "-> A while loop is more suitable than a for loop in Python when the number of iterations is not known beforehand and the loop needs to continue as long as a certain condition remains true.\n",
    "When the number of iterations is not known beforehand and depends on a condition. For example, having a countdown for a rocket launch:\"\"\"\n",
    "\n",
    "x = int(input(\"Countdown starts from: \"))\n",
    "\n",
    "while x > 0:\n",
    "    print(x)\n",
    "    x -= 1\n",
    "else:\n",
    "    print(\"We have a TAKEOFF\")\n"
   ]
  },
  {
   "cell_type": "markdown",
   "id": "76ae8e4b-9a4d-4f83-9d1c-e167b02fd59b",
   "metadata": {},
   "source": [
    ">> PRACTICAL QUESTIONS"
   ]
  },
  {
   "cell_type": "markdown",
   "id": "c6b80c70-3181-4e8a-8abf-b905a4c9439e",
   "metadata": {},
   "source": [
    "1. Write a Python program to print \"Hello, World!\"."
   ]
  },
  {
   "cell_type": "code",
   "execution_count": 3,
   "id": "6ec697dd-1f22-4771-a061-f2ff8f540d36",
   "metadata": {},
   "outputs": [
    {
     "name": "stdout",
     "output_type": "stream",
     "text": [
      "Hello World\n"
     ]
    }
   ],
   "source": [
    "print(\"Hello World\")"
   ]
  },
  {
   "cell_type": "markdown",
   "id": "c7fdd4de-3799-4c10-921f-ca6bd3c0fb0d",
   "metadata": {},
   "source": [
    "2. Write a Python program that displays your name and age."
   ]
  },
  {
   "cell_type": "code",
   "execution_count": 4,
   "id": "20443dea-e942-407e-872f-ae88866a7698",
   "metadata": {},
   "outputs": [
    {
     "name": "stdout",
     "output_type": "stream",
     "text": [
      "My name is Tinu Adhikari and I am 28 years old.\n"
     ]
    }
   ],
   "source": [
    "name = \"Tinu Adhikari\"\n",
    "age = 28\n",
    "\n",
    "print(f\"My name is {name} and I am {age} years old.\")"
   ]
  },
  {
   "cell_type": "markdown",
   "id": "d622d5d3-64d8-481a-a4e6-e6a974bd6eea",
   "metadata": {},
   "source": [
    "3. Write code to print all the pre-defined keywords in Python using the keyword library."
   ]
  },
  {
   "cell_type": "code",
   "execution_count": 5,
   "id": "9dfc8121-93d5-46de-86fe-4e8be4e226f2",
   "metadata": {},
   "outputs": [
    {
     "name": "stdout",
     "output_type": "stream",
     "text": [
      "['False', 'None', 'True', 'and', 'as', 'assert', 'async', 'await', 'break', 'class', 'continue', 'def', 'del', 'elif', 'else', 'except', 'finally', 'for', 'from', 'global', 'if', 'import', 'in', 'is', 'lambda', 'nonlocal', 'not', 'or', 'pass', 'raise', 'return', 'try', 'while', 'with', 'yield']\n"
     ]
    }
   ],
   "source": [
    "import keyword\n",
    "\n",
    "print(keyword.kwlist)"
   ]
  },
  {
   "cell_type": "markdown",
   "id": "c459f1db-9520-45fd-b103-613e468fccea",
   "metadata": {},
   "source": [
    "4. Write a program that checks if a given word is a Python keyword."
   ]
  },
  {
   "cell_type": "code",
   "execution_count": 6,
   "id": "a2b129aa-e88a-432f-8e74-ee12279fcc05",
   "metadata": {},
   "outputs": [
    {
     "name": "stdin",
     "output_type": "stream",
     "text": [
      "Enter your desired keyword:  global\n"
     ]
    },
    {
     "name": "stdout",
     "output_type": "stream",
     "text": [
      "global is a Python Keyword.\n"
     ]
    }
   ],
   "source": [
    "import keyword\n",
    "\n",
    "i = input(\"Enter your desired keyword: \")\n",
    "\n",
    "if i in keyword.kwlist:\n",
    "    print(i,\"is a Python Keyword.\")\n",
    "else:\n",
    "    print(i,\"is not a Python keyword.\")"
   ]
  },
  {
   "cell_type": "markdown",
   "id": "cbc63105-425e-4a61-90d7-6f7aba4506ae",
   "metadata": {},
   "source": [
    "5. Create a list and tuple in Python, and demonstrate how attempting to change an element works differently for each."
   ]
  },
  {
   "cell_type": "code",
   "execution_count": 8,
   "id": "00f90b72-806f-48a8-be5d-04c6dcdd5818",
   "metadata": {},
   "outputs": [],
   "source": [
    "lst = [1,2,3,4,5]\n",
    "tup = (1,2,3,4,5)"
   ]
  },
  {
   "cell_type": "code",
   "execution_count": 9,
   "id": "48082cf6-3b6b-4583-928b-a490f7f6c148",
   "metadata": {},
   "outputs": [
    {
     "name": "stdout",
     "output_type": "stream",
     "text": [
      "[1, 2, 19, 4, 5]\n"
     ]
    }
   ],
   "source": [
    "lst[2] = 19\n",
    "print(lst)"
   ]
  },
  {
   "cell_type": "code",
   "execution_count": 10,
   "id": "b6343c69-cbc8-46f4-aba4-fb410688baf9",
   "metadata": {},
   "outputs": [
    {
     "ename": "TypeError",
     "evalue": "'tuple' object does not support item assignment",
     "output_type": "error",
     "traceback": [
      "\u001b[31m---------------------------------------------------------------------------\u001b[39m",
      "\u001b[31mTypeError\u001b[39m                                 Traceback (most recent call last)",
      "\u001b[36mCell\u001b[39m\u001b[36m \u001b[39m\u001b[32mIn[10]\u001b[39m\u001b[32m, line 1\u001b[39m\n\u001b[32m----> \u001b[39m\u001b[32m1\u001b[39m \u001b[43mtup\u001b[49m\u001b[43m[\u001b[49m\u001b[32;43m2\u001b[39;49m\u001b[43m]\u001b[49m = \u001b[32m19\u001b[39m\n\u001b[32m      2\u001b[39m \u001b[38;5;28mprint\u001b[39m(tup)\n",
      "\u001b[31mTypeError\u001b[39m: 'tuple' object does not support item assignment"
     ]
    }
   ],
   "source": [
    "tup[2] = 19\n",
    "print(tup)"
   ]
  },
  {
   "cell_type": "markdown",
   "id": "022851e4-dece-4aee-9535-2a332376fe8f",
   "metadata": {},
   "source": [
    "6. Write a function to demonstrate the behavior of mutable and immutable arguments."
   ]
  },
  {
   "cell_type": "code",
   "execution_count": 26,
   "id": "0a7f2019-ed6f-4f14-a099-23419673f202",
   "metadata": {},
   "outputs": [
    {
     "name": "stdout",
     "output_type": "stream",
     "text": [
      ">> Using Immutable <<\n",
      "Before fn: 42\n",
      "Inside fn: 61\n",
      "After fn: 42\n",
      "\n",
      ">> Using Mutable <<\n",
      "Before fn: [1, 2, 3]\n",
      "Inside fn: [1, 2, 3, 4]\n",
      "After fn: [1, 2, 3, 4]\n"
     ]
    }
   ],
   "source": [
    "def mod_immutable(x):\n",
    "    x += 19\n",
    "    print(\"Inside fn:\", x)\n",
    "\n",
    "def mod_mutable(lst):\n",
    "    lst.append(4)\n",
    "    print(\"Inside fn:\", lst)\n",
    "\n",
    "print(\">> Using Immutable <<\")\n",
    "a = 42\n",
    "print(\"Before fn:\", a)\n",
    "mod_immutable(a)\n",
    "print(\"After fn:\", a)\n",
    "\n",
    "\n",
    "print(\"\\n>> Using Mutable <<\")\n",
    "lt = [1, 2, 3]\n",
    "print(\"Before fn:\", lt)\n",
    "mod_mutable(lt)\n",
    "print(\"After fn:\", lt)"
   ]
  },
  {
   "cell_type": "markdown",
   "id": "9f91622f-f24a-4bc4-b891-56596c80c3a2",
   "metadata": {},
   "source": [
    "7. Write a program that performs basic arithmetic operations on two user-input numbers."
   ]
  },
  {
   "cell_type": "code",
   "execution_count": 12,
   "id": "5b408b10-e295-4dba-9302-cad075ba2db7",
   "metadata": {},
   "outputs": [
    {
     "name": "stdin",
     "output_type": "stream",
     "text": [
      "Enter first number here (a):  12\n",
      "Enter second number here (b):  3\n"
     ]
    },
    {
     "name": "stdout",
     "output_type": "stream",
     "text": [
      "a + b = 15.0\n",
      "a - b = 9.0\n",
      "a x b = 36.0\n",
      "a / b = 4.0\n",
      "a ^ b = 1728.0\n",
      "when a is divided by b it gives remainder = 0.0\n"
     ]
    }
   ],
   "source": [
    "a = float(input(\"Enter first number here (a): \"))\n",
    "b = float(input(\"Enter second number here (b): \"))\n",
    "\n",
    "print(\"a + b =\", a+b)\n",
    "print(\"a - b =\", a-b)\n",
    "print(\"a x b =\", a*b)\n",
    "print(\"a / b =\", a/b)\n",
    "print(\"a ^ b =\", a**b)\n",
    "print(\"when a is divided by b it gives remainder =\",a%b)\n"
   ]
  },
  {
   "cell_type": "markdown",
   "id": "f024bfb1-8b71-4a79-9c3b-75f1accd5844",
   "metadata": {},
   "source": [
    "8. Write a program to demonstrate the use of logical operators."
   ]
  },
  {
   "cell_type": "code",
   "execution_count": 13,
   "id": "aa1c8045-da57-4cbe-8828-9f4b7dd768ef",
   "metadata": {},
   "outputs": [
    {
     "name": "stdout",
     "output_type": "stream",
     "text": [
      "you are eligible to vote\n"
     ]
    }
   ],
   "source": [
    "age = 20\n",
    "has_id = True\n",
    "\n",
    "if (age >= 18) and (has_id == True):\n",
    "    print(\"you are eligible to vote\")\n",
    "elif (age >= 18) and (has_id == False):\n",
    "    print(\"please enroll yourself to vote.\")\n",
    "else:\n",
    "    print(\"you are not eligible to vote yet.\")\n"
   ]
  },
  {
   "cell_type": "code",
   "execution_count": 14,
   "id": "5c956dd5-86d2-4aee-afef-c67b5cbf04a0",
   "metadata": {},
   "outputs": [
    {
     "name": "stdout",
     "output_type": "stream",
     "text": [
      "please enroll yourself to vote.\n"
     ]
    }
   ],
   "source": [
    "age = 20\n",
    "has_id = False\n",
    "\n",
    "if (age >= 18) and (has_id == True):\n",
    "    print(\"you are eligible to vote\")\n",
    "elif (age >= 18) and (has_id == False):\n",
    "    print(\"please enroll yourself to vote.\")\n",
    "else:\n",
    "    print(\"you are not eligible to vote yet.\")\n"
   ]
  },
  {
   "cell_type": "code",
   "execution_count": 15,
   "id": "6b2e95e7-9e40-46e8-90cb-d67ecb75f71e",
   "metadata": {},
   "outputs": [
    {
     "name": "stdout",
     "output_type": "stream",
     "text": [
      "you are not eligible to vote yet.\n"
     ]
    }
   ],
   "source": [
    "age = 17\n",
    "has_id = True\n",
    "\n",
    "if (age >= 18) and (has_id == True):\n",
    "    print(\"you are eligible to vote\")\n",
    "elif (age >= 18) and (has_id == False):\n",
    "    print(\"please enroll yourself to vote.\")\n",
    "else:\n",
    "    print(\"you are not eligible to vote yet.\")\n"
   ]
  },
  {
   "cell_type": "code",
   "execution_count": 16,
   "id": "4e569e9b-4b2d-46dc-a602-cd8fc73d5bdd",
   "metadata": {},
   "outputs": [
    {
     "name": "stdout",
     "output_type": "stream",
     "text": [
      "you are not eligible to vote yet.\n"
     ]
    }
   ],
   "source": [
    "age = 17\n",
    "has_id = False\n",
    "\n",
    "if (age >= 18) and (has_id == True):\n",
    "    print(\"you are eligible to vote\")\n",
    "elif (age >= 18) and (has_id == False):\n",
    "    print(\"please enroll yourself to vote.\")\n",
    "else:\n",
    "    print(\"you are not eligible to vote yet.\")\n"
   ]
  },
  {
   "cell_type": "markdown",
   "id": "2e32493a-ffcb-42a7-8220-92548300cb5a",
   "metadata": {},
   "source": [
    "9. Write a Python program to convert user input from string to integer, float, and boolean types."
   ]
  },
  {
   "cell_type": "code",
   "execution_count": 19,
   "id": "1b27cd31-ee2f-44c3-bdaa-1cd733c86a65",
   "metadata": {},
   "outputs": [
    {
     "name": "stdin",
     "output_type": "stream",
     "text": [
      "Please input a number here:  19\n"
     ]
    },
    {
     "name": "stdout",
     "output_type": "stream",
     "text": [
      "Your number as an integer: 19\n",
      "Your number as a float: 19.0\n",
      "Your number as a boolean: True\n"
     ]
    }
   ],
   "source": [
    "x = input(\"Please input a number here: \")\n",
    "\n",
    "print(\"Your number as an integer:\",int(x))\n",
    "print(\"Your number as a float:\",float(x))\n",
    "print(\"Your number as a boolean:\",bool(x))"
   ]
  },
  {
   "cell_type": "markdown",
   "id": "dba21013-d430-445f-991e-bad96409683d",
   "metadata": {},
   "source": [
    "10. Write code to demonstrate type casting with list elements."
   ]
  },
  {
   "cell_type": "code",
   "execution_count": 20,
   "id": "87c852c4-77a6-4a5d-9fb5-2112345d2922",
   "metadata": {},
   "outputs": [
    {
     "name": "stdout",
     "output_type": "stream",
     "text": [
      "Raju is <class 'str'> in the list\n",
      "Shyam is <class 'str'> in the list\n",
      "Babu Bhayya is <class 'str'> in the list\n",
      "121 is <class 'int'> in the list\n",
      "196.0 is <class 'float'> in the list\n",
      "True is <class 'bool'> in the list\n",
      "None is <class 'NoneType'> in the list\n"
     ]
    }
   ],
   "source": [
    "lst = [\"Raju\", \"Shyam\", \"Babu Bhayya\", 121, 196.0, True, None]\n",
    "\n",
    "for i in lst:\n",
    "    print(f\"{i} is {type(i)} in the list\")\n"
   ]
  },
  {
   "cell_type": "markdown",
   "id": "9bd350db-52b9-475b-abeb-3eb0aac993e4",
   "metadata": {},
   "source": [
    "11. Write a program that checks if a number is positive, negative, or zero."
   ]
  },
  {
   "cell_type": "code",
   "execution_count": 21,
   "id": "be03aeef-5142-4ad9-9ad9-8d7e2d61cd30",
   "metadata": {},
   "outputs": [
    {
     "name": "stdin",
     "output_type": "stream",
     "text": [
      "Please enter your number here:  19\n"
     ]
    },
    {
     "name": "stdout",
     "output_type": "stream",
     "text": [
      "Number is positive.\n"
     ]
    }
   ],
   "source": [
    "x = float(input(\"Please enter your number here: \"))\n",
    "\n",
    "if (x > 0):\n",
    "    print(\"Number is positive.\")\n",
    "elif x < 0:\n",
    "    print(\"Number is negative.\")\n",
    "else:\n",
    "    print(\"Number is zero (0).\")\n"
   ]
  },
  {
   "cell_type": "markdown",
   "id": "10328e56-5413-4a16-a598-c4998b578e2a",
   "metadata": {},
   "source": [
    "12. Write a for loop to print numbers from 1 to 10."
   ]
  },
  {
   "cell_type": "code",
   "execution_count": 22,
   "id": "afdbf583-dfe5-4d0d-978b-bc93177012fe",
   "metadata": {},
   "outputs": [
    {
     "name": "stdout",
     "output_type": "stream",
     "text": [
      "1\n",
      "2\n",
      "3\n",
      "4\n",
      "5\n",
      "6\n",
      "7\n",
      "8\n",
      "9\n",
      "10\n"
     ]
    }
   ],
   "source": [
    "for i in range(1,11):\n",
    "    print(i)\n"
   ]
  },
  {
   "cell_type": "markdown",
   "id": "b662ece5-b163-4244-850d-4aa498763913",
   "metadata": {},
   "source": [
    "13. Write a Python program to find the sum of all even numbers between 1 and 50."
   ]
  },
  {
   "cell_type": "code",
   "execution_count": 23,
   "id": "76adee19-0ccf-4826-9000-55c3f40b9cfc",
   "metadata": {},
   "outputs": [
    {
     "name": "stdout",
     "output_type": "stream",
     "text": [
      "Sum for the numbers [2, 4, 6, 8, 10, 12, 14, 16, 18, 20, 22, 24, 26, 28, 30, 32, 34, 36, 38, 40, 42, 44, 46, 48, 50] is 650.\n"
     ]
    }
   ],
   "source": [
    "no = list(range(2,51,2))\n",
    "\n",
    "e_sum = 0\n",
    "for i in no:\n",
    "    e_sum += i\n",
    "\n",
    "print(f\"Sum for the numbers {no} is {e_sum}.\")"
   ]
  },
  {
   "cell_type": "markdown",
   "id": "0473ba67-95bf-4362-9358-82579971740c",
   "metadata": {},
   "source": [
    "14. Write a program to reverse a string using a while loop."
   ]
  },
  {
   "cell_type": "code",
   "execution_count": 24,
   "id": "035e98d9-9e33-40c0-83cf-bf82e276f874",
   "metadata": {},
   "outputs": [
    {
     "name": "stdout",
     "output_type": "stream",
     "text": [
      ".won eranoillim era ayyahB ubaB dna mayahS ,ujaR"
     ]
    }
   ],
   "source": [
    "st = \"Raju, Shayam and Babu Bhayya are millionare now.\"\n",
    "\n",
    "#print(len(st))\n",
    "m = len(st) - 1\n",
    "while m >= 0:\n",
    "    print(st[m], end=\"\")\n",
    "    m -= 1\n"
   ]
  },
  {
   "cell_type": "markdown",
   "id": "f84d39e1-ea69-4342-9522-35312cc7b7f8",
   "metadata": {},
   "source": [
    "15. Write a Python program to calculate the factorial of a number provided by the user using a while loop."
   ]
  },
  {
   "cell_type": "code",
   "execution_count": 25,
   "id": "8e9388d0-dc61-41d9-862b-821f0ecad287",
   "metadata": {},
   "outputs": [
    {
     "name": "stdin",
     "output_type": "stream",
     "text": [
      "Enter a positive number whose factorial value you want to calculate:  5\n"
     ]
    },
    {
     "name": "stdout",
     "output_type": "stream",
     "text": [
      "120 is the value for 5!\n"
     ]
    }
   ],
   "source": [
    "xn = input(\"Enter a positive number whose factorial value you want to calculate: \")\n",
    "x = int(xn)\n",
    "fact = 1\n",
    "while x > 0:\n",
    "    fact *= x \n",
    "    x -= 1\n",
    "\n",
    "print(f\"{fact} is the value for {xn}!\")"
   ]
  }
 ],
 "metadata": {
  "kernelspec": {
   "display_name": "Python 3 (ipykernel)",
   "language": "python",
   "name": "python3"
  },
  "language_info": {
   "codemirror_mode": {
    "name": "ipython",
    "version": 3
   },
   "file_extension": ".py",
   "mimetype": "text/x-python",
   "name": "python",
   "nbconvert_exporter": "python",
   "pygments_lexer": "ipython3",
   "version": "3.12.1"
  }
 },
 "nbformat": 4,
 "nbformat_minor": 5
}
